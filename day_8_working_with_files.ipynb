{
 "cells": [
  {
   "cell_type": "code",
   "execution_count": 1,
   "metadata": {},
   "outputs": [],
   "source": [
    "f = open('mytext.txt','w')\n",
    "f.write('This is a line')\n",
    "f.close()"
   ]
  },
  {
   "cell_type": "markdown",
   "metadata": {},
   "source": [
    "#### Handling different files (json, csv, tsv, xls, xlsx)"
   ]
  },
  {
   "cell_type": "code",
   "execution_count": 3,
   "metadata": {},
   "outputs": [],
   "source": [
    "f = open(r'data/supermarkets-commas.txt','r')\n",
    "r = f.read()\n",
    "f.close()"
   ]
  },
  {
   "cell_type": "code",
   "execution_count": 4,
   "metadata": {},
   "outputs": [
    {
     "data": {
      "text/plain": [
       "\"ID,Address,City,State,Country,Name,Employees\\n1,3666 21st St,San Francisco,CA 94114,USA, Madeira,8\\n2,735 Dolores St,San Francisco,CA 94119,USA,Bready Shop,15\\n3,332 Hill St,San Francisco,California 94114,USA,Super River,25\\n4,3995 23rd St,San Francisco,CA 94114,USA,Ben's Shop,10\\n5,1056 Sanchez St,San Francisco,California,USA,Sanchez,12\\n6,551 Alvarado St,San Francisco,CA 94114,USA,Richvalley,20\\n\""
      ]
     },
     "execution_count": 4,
     "metadata": {},
     "output_type": "execute_result"
    }
   ],
   "source": [
    "r"
   ]
  },
  {
   "cell_type": "code",
   "execution_count": 5,
   "metadata": {},
   "outputs": [
    {
     "name": "stdout",
     "output_type": "stream",
     "text": [
      "ID,Address,City,State,Country,Name,Employees\n",
      "1,3666 21st St,San Francisco,CA 94114,USA, Madeira,8\n",
      "2,735 Dolores St,San Francisco,CA 94119,USA,Bready Shop,15\n",
      "3,332 Hill St,San Francisco,California 94114,USA,Super River,25\n",
      "4,3995 23rd St,San Francisco,CA 94114,USA,Ben's Shop,10\n",
      "5,1056 Sanchez St,San Francisco,California,USA,Sanchez,12\n",
      "6,551 Alvarado St,San Francisco,CA 94114,USA,Richvalley,20\n",
      "\n"
     ]
    }
   ],
   "source": [
    "print(r)"
   ]
  },
  {
   "cell_type": "code",
   "execution_count": 10,
   "metadata": {},
   "outputs": [
    {
     "data": {
      "text/plain": [
       "['ID,Address,City,State,Country,Name,Employees',\n",
       " '1,3666 21st St,San Francisco,CA 94114,USA, Madeira,8',\n",
       " '2,735 Dolores St,San Francisco,CA 94119,USA,Bready Shop,15',\n",
       " '3,332 Hill St,San Francisco,California 94114,USA,Super River,25',\n",
       " \"4,3995 23rd St,San Francisco,CA 94114,USA,Ben's Shop,10\",\n",
       " '5,1056 Sanchez St,San Francisco,California,USA,Sanchez,12',\n",
       " '6,551 Alvarado St,San Francisco,CA 94114,USA,Richvalley,20',\n",
       " '']"
      ]
     },
     "execution_count": 10,
     "metadata": {},
     "output_type": "execute_result"
    }
   ],
   "source": [
    "r1 = r.split('\\n')\n",
    "r1"
   ]
  },
  {
   "cell_type": "code",
   "execution_count": 11,
   "metadata": {},
   "outputs": [
    {
     "data": {
      "text/plain": [
       "[['ID', 'Address', 'City', 'State', 'Country', 'Name', 'Employees'],\n",
       " ['1', '3666 21st St', 'San Francisco', 'CA 94114', 'USA', ' Madeira', '8'],\n",
       " ['2',\n",
       "  '735 Dolores St',\n",
       "  'San Francisco',\n",
       "  'CA 94119',\n",
       "  'USA',\n",
       "  'Bready Shop',\n",
       "  '15'],\n",
       " ['3',\n",
       "  '332 Hill St',\n",
       "  'San Francisco',\n",
       "  'California 94114',\n",
       "  'USA',\n",
       "  'Super River',\n",
       "  '25'],\n",
       " ['4', '3995 23rd St', 'San Francisco', 'CA 94114', 'USA', \"Ben's Shop\", '10'],\n",
       " ['5',\n",
       "  '1056 Sanchez St',\n",
       "  'San Francisco',\n",
       "  'California',\n",
       "  'USA',\n",
       "  'Sanchez',\n",
       "  '12'],\n",
       " ['6',\n",
       "  '551 Alvarado St',\n",
       "  'San Francisco',\n",
       "  'CA 94114',\n",
       "  'USA',\n",
       "  'Richvalley',\n",
       "  '20'],\n",
       " ['']]"
      ]
     },
     "execution_count": 11,
     "metadata": {},
     "output_type": "execute_result"
    }
   ],
   "source": [
    "r2 = [i.split(',') for i in r.split('\\n')]\n",
    "r2"
   ]
  },
  {
   "cell_type": "code",
   "execution_count": 6,
   "metadata": {},
   "outputs": [
    {
     "data": {
      "text/plain": [
       "str"
      ]
     },
     "execution_count": 6,
     "metadata": {},
     "output_type": "execute_result"
    }
   ],
   "source": [
    "type(r)"
   ]
  },
  {
   "cell_type": "code",
   "execution_count": 7,
   "metadata": {},
   "outputs": [],
   "source": [
    "# TASK - Try to convert this string into a dictionary, in more generic way"
   ]
  },
  {
   "cell_type": "code",
   "execution_count": 8,
   "metadata": {},
   "outputs": [],
   "source": [
    "# d = {'ID':[1,2,3,4,5,6],\n",
    "#     'Address':['366gkfd'],\n",
    "#     ...}"
   ]
  },
  {
   "cell_type": "code",
   "execution_count": 12,
   "metadata": {},
   "outputs": [],
   "source": [
    "# import csv"
   ]
  },
  {
   "cell_type": "code",
   "execution_count": 13,
   "metadata": {},
   "outputs": [],
   "source": [
    "f = open(r'data/supermarkets-semi-colons.txt','r')\n",
    "r = f.read()\n",
    "f.close()"
   ]
  },
  {
   "cell_type": "code",
   "execution_count": 15,
   "metadata": {},
   "outputs": [
    {
     "name": "stdout",
     "output_type": "stream",
     "text": [
      "ID;Address;City;State;Country;Name;Employees\n",
      "1;3666 21st St;San Francisco;CA 94114;USA;Madeira;8\n",
      "2;735 Dolores St;San Francisco;CA 94119;USA;Bready Shop;15\n",
      "3;332 Hill St;San Francisco;California 94114;USA; Super River;25\n",
      "4;3995 23rd St;San Francisco;CA 94114;USA;Ben's Shop;10\n",
      "5;1056 Sanchez St;San Francisco;California;USA;Sanchez;12\n",
      "6;551 Alvarado St;San Francisco;CA 94114;USA;Richvalley;20\n",
      "\n"
     ]
    }
   ],
   "source": [
    "print(r)"
   ]
  },
  {
   "cell_type": "code",
   "execution_count": 16,
   "metadata": {},
   "outputs": [
    {
     "name": "stdout",
     "output_type": "stream",
     "text": [
      "ID,Address,City,State,Country,Name,Employees\n",
      "1,3666 21st St,San Francisco,CA 94114,USA,Madeira,8\n",
      "2,735 Dolores St,San Francisco,CA 94119,USA,Bready Shop,15\n",
      "3,332 Hill St,San Francisco,California 94114,USA,Super River,25\n",
      "4,3995 23rd St,San Francisco,CA 94114,USA,Ben's Shop,10\n",
      "5,1056 Sanchez St,San Francisco,California,USA,Sanchez,12\n",
      "6,551 Alvarado St,San Francisco,CA 94114,USA,Richvalley,20\n",
      "\n"
     ]
    }
   ],
   "source": [
    "f = open(r'data/supermarkets.csv','r')\n",
    "r = f.read()\n",
    "f.close()\n",
    "print(r)"
   ]
  },
  {
   "cell_type": "code",
   "execution_count": 22,
   "metadata": {},
   "outputs": [
    {
     "name": "stdout",
     "output_type": "stream",
     "text": [
      "[\n",
      "  {\n",
      "    \"ID\": 1,\n",
      "    \"Address\": \"3666 21st St\",\n",
      "    \"City\": \"San Francisco\",\n",
      "    \"State\": \"CA 94114\",\n",
      "    \"Country\": \"USA\",\n",
      "    \"Name\": \"Madeira\",\n",
      "    \"Employees\": 8\n",
      "  },\n",
      "  {\n",
      "    \"ID\": 2,\n",
      "    \"Address\": \"735 Dolores St\",\n",
      "    \"City\": \"San Francisco\",\n",
      "    \"State\": \"CA 94119\",\n",
      "    \"Country\": \"USA\",\n",
      "    \"Name\": \"Bready Shop\",\n",
      "    \"Employees\": 15\n",
      "  },\n",
      "  {\n",
      "    \"ID\": 3,\n",
      "    \"Address\": \"332 Hill St\",\n",
      "    \"City\": \"San Francisco\",\n",
      "    \"State\": \"California 94114\",\n",
      "    \"Country\": \"USA\",\n",
      "    \"Name\": \"Super River\",\n",
      "    \"Employees\": 25\n",
      "  },\n",
      "  {\n",
      "    \"ID\": 4,\n",
      "    \"Address\": \"3995 23rd St\",\n",
      "    \"City\": \"San Francisco\",\n",
      "    \"State\": \"CA 94114\",\n",
      "    \"Country\": \"USA\",\n",
      "    \"Name\": \"Ben's Shop\",\n",
      "    \"Employees\": 10\n",
      "  },\n",
      "  {\n",
      "    \"ID\": 5,\n",
      "    \"Address\": \"1056 Sanchez St\",\n",
      "    \"City\": \"San Francisco\",\n",
      "    \"State\": \"California\",\n",
      "    \"Country\": \"USA\",\n",
      "    \"Name\": \"Sanchez\",\n",
      "    \"Employees\": 12\n",
      "  },\n",
      "  {\n",
      "    \"ID\": 6,\n",
      "    \"Address\": \"551 Alvarado St\",\n",
      "    \"City\": \"San Francisco\",\n",
      "    \"State\": \"CA 94114\",\n",
      "    \"Country\": \"USA\",\n",
      "    \"Name\": \"Richvalley\",\n",
      "    \"Employees\": 20\n",
      "  }\n",
      "]\n"
     ]
    }
   ],
   "source": [
    "f = open(r'data/supermarkets.json','r')\n",
    "json_data = f.read()\n",
    "f.close()\n",
    "print(json_data)"
   ]
  },
  {
   "cell_type": "code",
   "execution_count": 23,
   "metadata": {},
   "outputs": [
    {
     "data": {
      "text/plain": [
       "str"
      ]
     },
     "execution_count": 23,
     "metadata": {},
     "output_type": "execute_result"
    }
   ],
   "source": [
    "type(json_data)"
   ]
  },
  {
   "cell_type": "code",
   "execution_count": 20,
   "metadata": {},
   "outputs": [],
   "source": [
    "# f = open(r'data/supermarkets.xlsx','r')\n",
    "# r = f.read()\n",
    "# f.close()\n",
    "# print(r)"
   ]
  },
  {
   "cell_type": "code",
   "execution_count": 21,
   "metadata": {},
   "outputs": [],
   "source": [
    "import json"
   ]
  },
  {
   "cell_type": "code",
   "execution_count": null,
   "metadata": {},
   "outputs": [],
   "source": [
    "json.dumps()"
   ]
  },
  {
   "cell_type": "code",
   "execution_count": 24,
   "metadata": {},
   "outputs": [],
   "source": [
    "k = json.loads(json_data)"
   ]
  },
  {
   "cell_type": "code",
   "execution_count": 28,
   "metadata": {},
   "outputs": [
    {
     "data": {
      "text/plain": [
       "6"
      ]
     },
     "execution_count": 28,
     "metadata": {},
     "output_type": "execute_result"
    }
   ],
   "source": [
    "len(k)"
   ]
  },
  {
   "cell_type": "code",
   "execution_count": 30,
   "metadata": {},
   "outputs": [
    {
     "data": {
      "text/plain": [
       "{'ID': 1,\n",
       " 'Address': '3666 21st St',\n",
       " 'City': 'San Francisco',\n",
       " 'State': 'CA 94114',\n",
       " 'Country': 'USA',\n",
       " 'Name': 'Madeira',\n",
       " 'Employees': 8}"
      ]
     },
     "execution_count": 30,
     "metadata": {},
     "output_type": "execute_result"
    }
   ],
   "source": [
    "k[0]"
   ]
  },
  {
   "cell_type": "code",
   "execution_count": 31,
   "metadata": {},
   "outputs": [
    {
     "data": {
      "text/plain": [
       "'3666 21st St'"
      ]
     },
     "execution_count": 31,
     "metadata": {},
     "output_type": "execute_result"
    }
   ],
   "source": [
    "k[0]['Address']"
   ]
  },
  {
   "cell_type": "code",
   "execution_count": null,
   "metadata": {},
   "outputs": [],
   "source": []
  },
  {
   "cell_type": "code",
   "execution_count": 25,
   "metadata": {},
   "outputs": [
    {
     "data": {
      "text/plain": [
       "[{'ID': 1,\n",
       "  'Address': '3666 21st St',\n",
       "  'City': 'San Francisco',\n",
       "  'State': 'CA 94114',\n",
       "  'Country': 'USA',\n",
       "  'Name': 'Madeira',\n",
       "  'Employees': 8},\n",
       " {'ID': 2,\n",
       "  'Address': '735 Dolores St',\n",
       "  'City': 'San Francisco',\n",
       "  'State': 'CA 94119',\n",
       "  'Country': 'USA',\n",
       "  'Name': 'Bready Shop',\n",
       "  'Employees': 15},\n",
       " {'ID': 3,\n",
       "  'Address': '332 Hill St',\n",
       "  'City': 'San Francisco',\n",
       "  'State': 'California 94114',\n",
       "  'Country': 'USA',\n",
       "  'Name': 'Super River',\n",
       "  'Employees': 25},\n",
       " {'ID': 4,\n",
       "  'Address': '3995 23rd St',\n",
       "  'City': 'San Francisco',\n",
       "  'State': 'CA 94114',\n",
       "  'Country': 'USA',\n",
       "  'Name': \"Ben's Shop\",\n",
       "  'Employees': 10},\n",
       " {'ID': 5,\n",
       "  'Address': '1056 Sanchez St',\n",
       "  'City': 'San Francisco',\n",
       "  'State': 'California',\n",
       "  'Country': 'USA',\n",
       "  'Name': 'Sanchez',\n",
       "  'Employees': 12},\n",
       " {'ID': 6,\n",
       "  'Address': '551 Alvarado St',\n",
       "  'City': 'San Francisco',\n",
       "  'State': 'CA 94114',\n",
       "  'Country': 'USA',\n",
       "  'Name': 'Richvalley',\n",
       "  'Employees': 20}]"
      ]
     },
     "execution_count": 25,
     "metadata": {},
     "output_type": "execute_result"
    }
   ],
   "source": [
    "k"
   ]
  },
  {
   "cell_type": "code",
   "execution_count": 26,
   "metadata": {},
   "outputs": [
    {
     "data": {
      "text/plain": [
       "list"
      ]
     },
     "execution_count": 26,
     "metadata": {},
     "output_type": "execute_result"
    }
   ],
   "source": [
    "type(k)"
   ]
  },
  {
   "cell_type": "code",
   "execution_count": 32,
   "metadata": {},
   "outputs": [
    {
     "data": {
      "text/plain": [
       "{'color': ['red', 'brown'], 'shape': ['square', 'circle']}"
      ]
     },
     "execution_count": 32,
     "metadata": {},
     "output_type": "execute_result"
    }
   ],
   "source": [
    "d = {'color':['red','brown'],'shape':['square','circle']}\n",
    "d"
   ]
  },
  {
   "cell_type": "code",
   "execution_count": 33,
   "metadata": {},
   "outputs": [
    {
     "data": {
      "text/plain": [
       "'{\"color\": [\"red\", \"brown\"], \"shape\": [\"square\", \"circle\"]}'"
      ]
     },
     "execution_count": 33,
     "metadata": {},
     "output_type": "execute_result"
    }
   ],
   "source": [
    "js = json.dumps(d)\n",
    "js"
   ]
  },
  {
   "cell_type": "code",
   "execution_count": 34,
   "metadata": {},
   "outputs": [
    {
     "data": {
      "text/plain": [
       "str"
      ]
     },
     "execution_count": 34,
     "metadata": {},
     "output_type": "execute_result"
    }
   ],
   "source": [
    "type(js)"
   ]
  },
  {
   "cell_type": "code",
   "execution_count": 35,
   "metadata": {},
   "outputs": [],
   "source": [
    "f = open('myjson.json','w')\n",
    "f.write(js)\n",
    "f.close()"
   ]
  },
  {
   "cell_type": "code",
   "execution_count": 36,
   "metadata": {},
   "outputs": [],
   "source": [
    "# Opening the file directly through json module"
   ]
  },
  {
   "cell_type": "code",
   "execution_count": 37,
   "metadata": {},
   "outputs": [],
   "source": [
    "f = open(r'data/supermarkets.json')\n",
    "data = json.load(f)\n",
    "f.close()"
   ]
  },
  {
   "cell_type": "code",
   "execution_count": 38,
   "metadata": {},
   "outputs": [
    {
     "data": {
      "text/plain": [
       "[{'ID': 1,\n",
       "  'Address': '3666 21st St',\n",
       "  'City': 'San Francisco',\n",
       "  'State': 'CA 94114',\n",
       "  'Country': 'USA',\n",
       "  'Name': 'Madeira',\n",
       "  'Employees': 8},\n",
       " {'ID': 2,\n",
       "  'Address': '735 Dolores St',\n",
       "  'City': 'San Francisco',\n",
       "  'State': 'CA 94119',\n",
       "  'Country': 'USA',\n",
       "  'Name': 'Bready Shop',\n",
       "  'Employees': 15},\n",
       " {'ID': 3,\n",
       "  'Address': '332 Hill St',\n",
       "  'City': 'San Francisco',\n",
       "  'State': 'California 94114',\n",
       "  'Country': 'USA',\n",
       "  'Name': 'Super River',\n",
       "  'Employees': 25},\n",
       " {'ID': 4,\n",
       "  'Address': '3995 23rd St',\n",
       "  'City': 'San Francisco',\n",
       "  'State': 'CA 94114',\n",
       "  'Country': 'USA',\n",
       "  'Name': \"Ben's Shop\",\n",
       "  'Employees': 10},\n",
       " {'ID': 5,\n",
       "  'Address': '1056 Sanchez St',\n",
       "  'City': 'San Francisco',\n",
       "  'State': 'California',\n",
       "  'Country': 'USA',\n",
       "  'Name': 'Sanchez',\n",
       "  'Employees': 12},\n",
       " {'ID': 6,\n",
       "  'Address': '551 Alvarado St',\n",
       "  'City': 'San Francisco',\n",
       "  'State': 'CA 94114',\n",
       "  'Country': 'USA',\n",
       "  'Name': 'Richvalley',\n",
       "  'Employees': 20}]"
      ]
     },
     "execution_count": 38,
     "metadata": {},
     "output_type": "execute_result"
    }
   ],
   "source": [
    "data"
   ]
  },
  {
   "cell_type": "code",
   "execution_count": 41,
   "metadata": {},
   "outputs": [
    {
     "data": {
      "text/plain": [
       "{'color': ['red', 'brown'], 'shape': ['square', 'circle']}"
      ]
     },
     "execution_count": 41,
     "metadata": {},
     "output_type": "execute_result"
    }
   ],
   "source": [
    "d"
   ]
  },
  {
   "cell_type": "code",
   "execution_count": 42,
   "metadata": {},
   "outputs": [],
   "source": [
    "f = open('myjson2.json','w')\n",
    "json.dump(d,f)\n",
    "f.close()"
   ]
  },
  {
   "cell_type": "markdown",
   "metadata": {},
   "source": [
    "##### Handling the CSV files"
   ]
  },
  {
   "cell_type": "code",
   "execution_count": 43,
   "metadata": {},
   "outputs": [],
   "source": [
    "import csv"
   ]
  },
  {
   "cell_type": "code",
   "execution_count": 47,
   "metadata": {},
   "outputs": [
    {
     "name": "stdout",
     "output_type": "stream",
     "text": [
      "['ID', 'Address', 'City', 'State', 'Country', 'Name', 'Employees']\n",
      "['1', '3666 21st St', 'San Francisco', 'CA 94114', 'USA', 'Madeira', '8']\n",
      "['2', '735 Dolores St', 'San Francisco', 'CA 94119', 'USA', 'Bready Shop', '15']\n",
      "['3', '332 Hill St', 'San Francisco', 'California 94114', 'USA', 'Super River', '25']\n",
      "['4', '3995 23rd St', 'San Francisco', 'CA 94114', 'USA', \"Ben's Shop\", '10']\n",
      "['5', '1056 Sanchez St', 'San Francisco', 'California', 'USA', 'Sanchez', '12']\n",
      "['6', '551 Alvarado St', 'San Francisco', 'CA 94114', 'USA', 'Richvalley', '20']\n"
     ]
    }
   ],
   "source": [
    "f = open(r'data/supermarkets.csv')\n",
    "data = csv.reader(f)\n",
    "for d in data:\n",
    "    print(d)\n",
    "f.close()"
   ]
  },
  {
   "cell_type": "code",
   "execution_count": 48,
   "metadata": {},
   "outputs": [],
   "source": [
    "f = open(r'data/supermarkets.csv')\n",
    "data = csv.reader(f)"
   ]
  },
  {
   "cell_type": "code",
   "execution_count": 49,
   "metadata": {},
   "outputs": [
    {
     "data": {
      "text/plain": [
       "[['ID', 'Address', 'City', 'State', 'Country', 'Name', 'Employees'],\n",
       " ['1', '3666 21st St', 'San Francisco', 'CA 94114', 'USA', 'Madeira', '8'],\n",
       " ['2',\n",
       "  '735 Dolores St',\n",
       "  'San Francisco',\n",
       "  'CA 94119',\n",
       "  'USA',\n",
       "  'Bready Shop',\n",
       "  '15'],\n",
       " ['3',\n",
       "  '332 Hill St',\n",
       "  'San Francisco',\n",
       "  'California 94114',\n",
       "  'USA',\n",
       "  'Super River',\n",
       "  '25'],\n",
       " ['4', '3995 23rd St', 'San Francisco', 'CA 94114', 'USA', \"Ben's Shop\", '10'],\n",
       " ['5',\n",
       "  '1056 Sanchez St',\n",
       "  'San Francisco',\n",
       "  'California',\n",
       "  'USA',\n",
       "  'Sanchez',\n",
       "  '12'],\n",
       " ['6',\n",
       "  '551 Alvarado St',\n",
       "  'San Francisco',\n",
       "  'CA 94114',\n",
       "  'USA',\n",
       "  'Richvalley',\n",
       "  '20']]"
      ]
     },
     "execution_count": 49,
     "metadata": {},
     "output_type": "execute_result"
    }
   ],
   "source": [
    "list(data)"
   ]
  },
  {
   "cell_type": "code",
   "execution_count": 50,
   "metadata": {},
   "outputs": [
    {
     "data": {
      "text/plain": [
       "[]"
      ]
     },
     "execution_count": 50,
     "metadata": {},
     "output_type": "execute_result"
    }
   ],
   "source": [
    "list(data)"
   ]
  },
  {
   "cell_type": "code",
   "execution_count": 51,
   "metadata": {},
   "outputs": [],
   "source": [
    "# Task 2: Ask users to enter their name and email, store them in JSON format/csv\n",
    "# later on, whenever demanded,show the counts for every email domain."
   ]
  },
  {
   "cell_type": "raw",
   "metadata": {},
   "source": [
    "peeyush sanam,peeyush.sanam@gmail.com\n",
    "peeyush sanam,peeyush@techienest.in\n",
    "ajay,ajay@gmail.com"
   ]
  },
  {
   "cell_type": "raw",
   "metadata": {},
   "source": [
    "{'gmail.com':2,'techienest.in':1}"
   ]
  },
  {
   "cell_type": "code",
   "execution_count": null,
   "metadata": {},
   "outputs": [],
   "source": []
  }
 ],
 "metadata": {
  "kernelspec": {
   "display_name": "Python 3",
   "language": "python",
   "name": "python3"
  },
  "language_info": {
   "codemirror_mode": {
    "name": "ipython",
    "version": 3
   },
   "file_extension": ".py",
   "mimetype": "text/x-python",
   "name": "python",
   "nbconvert_exporter": "python",
   "pygments_lexer": "ipython3",
   "version": "3.8.3"
  }
 },
 "nbformat": 4,
 "nbformat_minor": 4
}
